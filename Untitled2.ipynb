{
  "nbformat": 4,
  "nbformat_minor": 0,
  "metadata": {
    "colab": {
      "name": "Untitled2.ipynb",
      "provenance": [],
      "authorship_tag": "ABX9TyOsj6NgSwVLXPOT7nkoVu71",
      "include_colab_link": true
    },
    "kernelspec": {
      "name": "python3",
      "display_name": "Python 3"
    },
    "language_info": {
      "name": "python"
    }
  },
  "cells": [
    {
      "cell_type": "markdown",
      "metadata": {
        "id": "view-in-github",
        "colab_type": "text"
      },
      "source": [
        "<a href=\"https://colab.research.google.com/github/dibiye2010/MyAweRepo2/blob/master/Untitled2.ipynb\" target=\"_parent\"><img src=\"https://colab.research.google.com/assets/colab-badge.svg\" alt=\"Open In Colab\"/></a>"
      ]
    },
    {
      "cell_type": "code",
      "metadata": {
        "id": "CQnYYWvMpSTX"
      },
      "source": [
        "a = 2\n",
        "b = 3"
      ],
      "execution_count": 1,
      "outputs": []
    },
    {
      "cell_type": "code",
      "metadata": {
        "id": "_vSYXws1pb6z"
      },
      "source": [
        "c = a "
      ],
      "execution_count": 2,
      "outputs": []
    },
    {
      "cell_type": "code",
      "metadata": {
        "id": "m2w_xXzxpkES"
      },
      "source": [
        "a = 4"
      ],
      "execution_count": 3,
      "outputs": []
    },
    {
      "cell_type": "code",
      "metadata": {
        "colab": {
          "base_uri": "https://localhost:8080/"
        },
        "id": "qoHxEW94poQp",
        "outputId": "849e3fc1-dd18-4875-9af0-885ed0cb6c80"
      },
      "source": [
        "print(a)\n",
        "print(c)"
      ],
      "execution_count": 4,
      "outputs": [
        {
          "output_type": "stream",
          "name": "stdout",
          "text": [
            "4\n",
            "2\n"
          ]
        }
      ]
    },
    {
      "cell_type": "code",
      "metadata": {
        "id": "Jb76ccZop8qk"
      },
      "source": [
        "v1 = (\"Hello World\")\n",
        "v2 = (\"Hello\")\n",
        "# switch the value of v1 and v2\n",
        "temp = v1 #create a temp value\n",
        "v1 = v2\n",
        "v2 = temp"
      ],
      "execution_count": 5,
      "outputs": []
    },
    {
      "cell_type": "code",
      "metadata": {
        "colab": {
          "base_uri": "https://localhost:8080/"
        },
        "id": "Qn8PJ8QSqrvr",
        "outputId": "23408841-167a-452b-dd7b-d86cc8f4970d"
      },
      "source": [
        "print(v1)\n",
        "print(v2)"
      ],
      "execution_count": 6,
      "outputs": [
        {
          "output_type": "stream",
          "name": "stdout",
          "text": [
            "Hello\n",
            "Hello World\n"
          ]
        }
      ]
    }
  ]
}