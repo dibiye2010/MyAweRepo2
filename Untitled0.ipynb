{
  "nbformat": 4,
  "nbformat_minor": 0,
  "metadata": {
    "colab": {
      "name": "Untitled0.ipynb",
      "provenance": [],
      "authorship_tag": "ABX9TyMpqn5dMFTpBzJyVowfhWEl",
      "include_colab_link": true
    },
    "kernelspec": {
      "name": "python3",
      "display_name": "Python 3"
    },
    "language_info": {
      "name": "python"
    }
  },
  "cells": [
    {
      "cell_type": "markdown",
      "metadata": {
        "id": "view-in-github",
        "colab_type": "text"
      },
      "source": [
        "<a href=\"https://colab.research.google.com/github/dibiye2010/MyAweRepo2/blob/master/Untitled0.ipynb\" target=\"_parent\"><img src=\"https://colab.research.google.com/assets/colab-badge.svg\" alt=\"Open In Colab\"/></a>"
      ]
    },
    {
      "cell_type": "code",
      "metadata": {
        "id": "_XC65t-eP_dU"
      },
      "source": [
        ""
      ],
      "execution_count": null,
      "outputs": []
    },
    {
      "cell_type": "code",
      "metadata": {
        "colab": {
          "base_uri": "https://localhost:8080/"
        },
        "id": "idGfTyT1QA9V",
        "outputId": "1bbd014a-8960-4ab0-d1f3-c58cc085aa59"
      },
      "source": [
        "a = 8\n",
        "b = 6\n",
        "if a < b:\n",
        "    print(\"a is less than b\")\n",
        "print(\"not sure a is less than b\")"
      ],
      "execution_count": 2,
      "outputs": [
        {
          "output_type": "stream",
          "name": "stdout",
          "text": [
            "not sure a is less than b\n"
          ]
        }
      ]
    },
    {
      "cell_type": "code",
      "metadata": {
        "colab": {
          "base_uri": "https://localhost:8080/"
        },
        "id": "cVLXRnTbSc1w",
        "outputId": "337a47dd-4fc0-4836-a945-bfb981e91e4b"
      },
      "source": [
        "c = 6\n",
        "d = 4\n",
        "if c < d:\n",
        "    print(\"c is less than d\")\n",
        "else:\n",
        "    print(\"c is NOT less than d\")\n",
        "print(\"not sure c is less than d\")"
      ],
      "execution_count": 4,
      "outputs": [
        {
          "output_type": "stream",
          "name": "stdout",
          "text": [
            "c is NOT less than d\n",
            "not sure c is less than d\n"
          ]
        }
      ]
    },
    {
      "cell_type": "code",
      "metadata": {
        "colab": {
          "base_uri": "https://localhost:8080/"
        },
        "id": "Oa-yTCE-USTI",
        "outputId": "902d73f2-1472-4e72-b705-0c8c6a725c18"
      },
      "source": [
        "e = 18\n",
        "f = 7\n",
        "if e < f:\n",
        "    print(\"e is less f\")\n",
        "elif e == f:\n",
        "    print(\"e is equal to f\")\n",
        "elif e > f + 10:\n",
        "    print(\"e is greater than f by 10\")\n",
        "else:\n",
        "    print(\"e is greater than f\")\n"
      ],
      "execution_count": 14,
      "outputs": [
        {
          "output_type": "stream",
          "name": "stdout",
          "text": [
            "e is greater than f by 10\n"
          ]
        }
      ]
    },
    {
      "cell_type": "code",
      "metadata": {
        "colab": {
          "base_uri": "https://localhost:8080/"
        },
        "id": "iQQOeomlgxs0",
        "outputId": "40f6160f-a765-4df4-ad41-850814c86bcc"
      },
      "source": [
        "g = 10\n",
        "h = 8\n",
        "if g < h:\n",
        "    print(\"g is less than h\")\n",
        "else:\n",
        "    if g == h:\n",
        "        print(\"g is equal to h\")\n",
        "    else:\n",
        "        print(\"g is greater than h\")"
      ],
      "execution_count": 17,
      "outputs": [
        {
          "output_type": "stream",
          "name": "stdout",
          "text": [
            "g is greater than h\n"
          ]
        }
      ]
    },
    {
      "cell_type": "code",
      "metadata": {
        "colab": {
          "base_uri": "https://localhost:8080/"
        },
        "id": "d7q8Bw6bihzu",
        "outputId": "137e8183-117d-4061-ba62-7395f34ab20e"
      },
      "source": [
        "name = \"Dicha\"\n",
        "weight_kg = 82\n",
        "height_m = 1.7\n",
        "\n",
        "bmi = weight_kg / (height_m ** 2)\n",
        "print(\"bmi: \")\n",
        "print(bmi)\n",
        "if bmi < 25:\n",
        "    print(name)\n",
        "    print(\"is not overweight\")\n",
        "else:\n",
        "    print(name)\n",
        "    print(\"is overweight\")"
      ],
      "execution_count": 20,
      "outputs": [
        {
          "output_type": "stream",
          "name": "stdout",
          "text": [
            "bmi: \n",
            "28.373702422145332\n",
            "Dicha\n",
            "is overweight\n"
          ]
        }
      ]
    }
  ]
}