{
  "nbformat": 4,
  "nbformat_minor": 0,
  "metadata": {
    "colab": {
      "name": "Untitled1.ipynb",
      "provenance": [],
      "authorship_tag": "ABX9TyNz5ZUWYjH+EcPHW84fVZzy",
      "include_colab_link": true
    },
    "kernelspec": {
      "name": "python3",
      "display_name": "Python 3"
    },
    "language_info": {
      "name": "python"
    }
  },
  "cells": [
    {
      "cell_type": "markdown",
      "metadata": {
        "id": "view-in-github",
        "colab_type": "text"
      },
      "source": [
        "<a href=\"https://colab.research.google.com/github/dibiye2010/MyAweRepo2/blob/master/Untitled1.ipynb\" target=\"_parent\"><img src=\"https://colab.research.google.com/assets/colab-badge.svg\" alt=\"Open In Colab\"/></a>"
      ]
    },
    {
      "cell_type": "code",
      "metadata": {
        "id": "SBYgM74GoIok"
      },
      "source": [
        "def MyUpperAndLowerCase(pul) :\n",
        "  p = pul.split() #Split the string into a list\n",
        "  deb=0 #my counter\n",
        "  res = [] #my list\n",
        "  s = len(p) #length of my sentence / list of elements\n",
        "  for s in p :\n",
        "    res_list = [] #My 2nd temporary list\n",
        "    if deb % 2 ==0: #test if my element is even\n",
        "      y=p[deb].upper() #put the element in upper case\n",
        "      res_list = res.append(y) #add it to the list\n",
        "      #print(y)\n",
        "      deb +=1 #iterate\n",
        "    else :\n",
        "      y2=p[deb].lower() #if it's not even, put it in lower case and add it to the list\n",
        "      res_list = res.append(y2)\n",
        "      deb +=1\n",
        "      #print(y2)\n",
        "  print(res) #print the list with the right case\n",
        "  rest = \" \".join(res) #put the list into a str and add a space between the elements\n",
        "  print(rest) #print the str"
      ],
      "execution_count": 1,
      "outputs": []
    },
    {
      "cell_type": "code",
      "metadata": {
        "colab": {
          "base_uri": "https://localhost:8080/"
        },
        "id": "B40e_4t6oOR6",
        "outputId": "eb302140-d1ad-44aa-9818-77a93e31e385"
      },
      "source": [
        "MyUpperAndLowerCase(\"if tou put your mind to it, you can accomplish anything\")"
      ],
      "execution_count": 2,
      "outputs": [
        {
          "output_type": "stream",
          "name": "stdout",
          "text": [
            "['IF', 'tou', 'PUT', 'your', 'MIND', 'to', 'IT,', 'you', 'CAN', 'accomplish', 'ANYTHING']\n",
            "IF tou PUT your MIND to IT, you CAN accomplish ANYTHING\n"
          ]
        }
      ]
    }
  ]
}