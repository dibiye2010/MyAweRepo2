{
  "nbformat": 4,
  "nbformat_minor": 0,
  "metadata": {
    "colab": {
      "name": "List",
      "provenance": [],
      "authorship_tag": "ABX9TyPuqkLGk/1ZEDFpEH3s3pif",
      "include_colab_link": true
    },
    "kernelspec": {
      "name": "python3",
      "display_name": "Python 3"
    },
    "language_info": {
      "name": "python"
    }
  },
  "cells": [
    {
      "cell_type": "markdown",
      "metadata": {
        "id": "view-in-github",
        "colab_type": "text"
      },
      "source": [
        "<a href=\"https://colab.research.google.com/github/dibiye2010/MyAweRepo2/blob/master/List.ipynb\" target=\"_parent\"><img src=\"https://colab.research.google.com/assets/colab-badge.svg\" alt=\"Open In Colab\"/></a>"
      ]
    },
    {
      "cell_type": "code",
      "metadata": {
        "id": "YjX1hT2q6ihZ"
      },
      "source": [
        "res = [3, 10, -1]"
      ],
      "execution_count": 1,
      "outputs": []
    },
    {
      "cell_type": "code",
      "metadata": {
        "colab": {
          "base_uri": "https://localhost:8080/"
        },
        "id": "RT3Ph8LX6zVe",
        "outputId": "665fa1c6-8bdb-4e5e-e83c-ead12637a01c"
      },
      "source": [
        "print(res)"
      ],
      "execution_count": 2,
      "outputs": [
        {
          "output_type": "stream",
          "name": "stdout",
          "text": [
            "[3, 10, -1]\n"
          ]
        }
      ]
    },
    {
      "cell_type": "code",
      "metadata": {
        "id": "P_ivmFUP677i"
      },
      "source": [
        "res.append(2) #add to list"
      ],
      "execution_count": 3,
      "outputs": []
    },
    {
      "cell_type": "code",
      "metadata": {
        "colab": {
          "base_uri": "https://localhost:8080/"
        },
        "id": "FKdiqWYu7B-N",
        "outputId": "4578985c-621d-4d80-c5cd-10efef4f927e"
      },
      "source": [
        "print(res)"
      ],
      "execution_count": 4,
      "outputs": [
        {
          "output_type": "stream",
          "name": "stdout",
          "text": [
            "[3, 10, -1, 2]\n"
          ]
        }
      ]
    },
    {
      "cell_type": "code",
      "metadata": {
        "id": "es0ImAMu7qad"
      },
      "source": [
        "res.append(\"hello\") #mix numbers and strings"
      ],
      "execution_count": 5,
      "outputs": []
    },
    {
      "cell_type": "code",
      "metadata": {
        "colab": {
          "base_uri": "https://localhost:8080/"
        },
        "id": "JuPbfHE87yEb",
        "outputId": "02c4dabc-6a1c-46b0-b507-f796b96c3614"
      },
      "source": [
        "print(res)"
      ],
      "execution_count": 6,
      "outputs": [
        {
          "output_type": "stream",
          "name": "stdout",
          "text": [
            "[3, 10, -1, 2, 'hello']\n"
          ]
        }
      ]
    },
    {
      "cell_type": "code",
      "metadata": {
        "id": "Rtfi2Sc08Fvd"
      },
      "source": [
        "res.append([6, 8, \"Dicha\"]) #add another list"
      ],
      "execution_count": 7,
      "outputs": []
    },
    {
      "cell_type": "code",
      "metadata": {
        "colab": {
          "base_uri": "https://localhost:8080/"
        },
        "id": "rmIZYIIl8YxT",
        "outputId": "f799b097-497c-4c5c-d3c8-2731a037be49"
      },
      "source": [
        "print(res)"
      ],
      "execution_count": 8,
      "outputs": [
        {
          "output_type": "stream",
          "name": "stdout",
          "text": [
            "[3, 10, -1, 2, 'hello', [6, 8, 'Dicha']]\n"
          ]
        }
      ]
    },
    {
      "cell_type": "code",
      "metadata": {
        "colab": {
          "base_uri": "https://localhost:8080/"
        },
        "id": "zf-CtGrS9byZ",
        "outputId": "074bd13c-dd8a-4641-beb3-a73e8c1d71c7"
      },
      "source": [
        "res.pop() #delete last item"
      ],
      "execution_count": 9,
      "outputs": [
        {
          "output_type": "execute_result",
          "data": {
            "text/plain": [
              "[6, 8, 'Dicha']"
            ]
          },
          "metadata": {},
          "execution_count": 9
        }
      ]
    },
    {
      "cell_type": "code",
      "metadata": {
        "colab": {
          "base_uri": "https://localhost:8080/"
        },
        "id": "Zm5g6Vak9jA2",
        "outputId": "c17f7db7-c929-459c-d685-beddbe5fdfea"
      },
      "source": [
        "print(res)"
      ],
      "execution_count": 10,
      "outputs": [
        {
          "output_type": "stream",
          "name": "stdout",
          "text": [
            "[3, 10, -1, 2, 'hello']\n"
          ]
        }
      ]
    },
    {
      "cell_type": "code",
      "metadata": {
        "colab": {
          "base_uri": "https://localhost:8080/"
        },
        "id": "YS3hAigf-Dm-",
        "outputId": "eb9f0fb3-2e11-42a1-af36-d3bd3d4d4536"
      },
      "source": [
        "print(res[0]) #retreive the first element on the list(it starts at 0 on python)"
      ],
      "execution_count": 11,
      "outputs": [
        {
          "output_type": "stream",
          "name": "stdout",
          "text": [
            "3\n"
          ]
        }
      ]
    },
    {
      "cell_type": "code",
      "metadata": {
        "id": "sH5qcqow-2nj"
      },
      "source": [
        "res[0] = 6 #change the value of the first element on the list"
      ],
      "execution_count": 12,
      "outputs": []
    },
    {
      "cell_type": "code",
      "metadata": {
        "colab": {
          "base_uri": "https://localhost:8080/"
        },
        "id": "0-8eJZSI_JLy",
        "outputId": "6fbf471e-e6b5-419c-d89d-e3f95eee504c"
      },
      "source": [
        "print(res)"
      ],
      "execution_count": 13,
      "outputs": [
        {
          "output_type": "stream",
          "name": "stdout",
          "text": [
            "[6, 10, -1, 2, 'hello']\n"
          ]
        }
      ]
    },
    {
      "cell_type": "code",
      "metadata": {
        "id": "pSCcfu0I_gwJ"
      },
      "source": [
        "res2 = [\"Banana\", \"Apple\", \"Strawberry\"]"
      ],
      "execution_count": 14,
      "outputs": []
    },
    {
      "cell_type": "code",
      "metadata": {
        "colab": {
          "base_uri": "https://localhost:8080/"
        },
        "id": "MpdthKQZ_wSJ",
        "outputId": "9175009b-3146-45fc-f022-bc2349df511b"
      },
      "source": [
        "print(res2)"
      ],
      "execution_count": 15,
      "outputs": [
        {
          "output_type": "stream",
          "name": "stdout",
          "text": [
            "['Banana', 'Apple', 'Strawberry']\n"
          ]
        }
      ]
    },
    {
      "cell_type": "code",
      "metadata": {
        "id": "302RhWVT_3ot"
      },
      "source": [
        "temp = res2[0] \n",
        "res2[0] = res2[2]\n",
        "res2[2] = temp\n",
        "#switching two elements"
      ],
      "execution_count": 17,
      "outputs": []
    },
    {
      "cell_type": "code",
      "metadata": {
        "colab": {
          "base_uri": "https://localhost:8080/"
        },
        "id": "sv3SGgQ_BL7h",
        "outputId": "50c5ddd5-3008-445f-a3a2-5f029eae8ce8"
      },
      "source": [
        "print(res2)"
      ],
      "execution_count": 18,
      "outputs": [
        {
          "output_type": "stream",
          "name": "stdout",
          "text": [
            "['Strawberry', 'Apple', 'Banana']\n"
          ]
        }
      ]
    },
    {
      "cell_type": "code",
      "metadata": {
        "id": "t2Qlq9zQCXFP"
      },
      "source": [
        "res2[0], res2[2] = res2[2], res2[0] #another simple method to switch"
      ],
      "execution_count": 19,
      "outputs": []
    },
    {
      "cell_type": "code",
      "metadata": {
        "colab": {
          "base_uri": "https://localhost:8080/"
        },
        "id": "HVxrKbZLClvu",
        "outputId": "a24d401c-fbac-467c-8544-acf4081c0cf7"
      },
      "source": [
        "print(res2)"
      ],
      "execution_count": 20,
      "outputs": [
        {
          "output_type": "stream",
          "name": "stdout",
          "text": [
            "['Banana', 'Apple', 'Strawberry']\n"
          ]
        }
      ]
    }
  ]
}