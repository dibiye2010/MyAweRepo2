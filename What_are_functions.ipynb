{
  "nbformat": 4,
  "nbformat_minor": 0,
  "metadata": {
    "colab": {
      "name": "What are functions",
      "provenance": [],
      "authorship_tag": "ABX9TyOnQwsxqySevDk0+iKCRL0W",
      "include_colab_link": true
    },
    "kernelspec": {
      "name": "python3",
      "display_name": "Python 3"
    },
    "language_info": {
      "name": "python"
    }
  },
  "cells": [
    {
      "cell_type": "markdown",
      "metadata": {
        "id": "view-in-github",
        "colab_type": "text"
      },
      "source": [
        "<a href=\"https://colab.research.google.com/github/dibiye2010/MyAweRepo2/blob/master/What_are_functions.ipynb\" target=\"_parent\"><img src=\"https://colab.research.google.com/assets/colab-badge.svg\" alt=\"Open In Colab\"/></a>"
      ]
    },
    {
      "cell_type": "code",
      "metadata": {
        "colab": {
          "base_uri": "https://localhost:8080/"
        },
        "id": "DQ3nR054zwkj",
        "outputId": "0b9bc0f8-a300-4649-e5c8-ef86dfada136"
      },
      "source": [
        "# functions are collection of intructions\n",
        "# functions are collection of code\n",
        "def function1 ():\n",
        "    print(\"python1\")\n",
        "    print(\"python2\")\n",
        "print(\"this is an outside funtion\")"
      ],
      "execution_count": 1,
      "outputs": [
        {
          "output_type": "stream",
          "name": "stdout",
          "text": [
            "this is an outside funtion\n"
          ]
        }
      ]
    },
    {
      "cell_type": "code",
      "metadata": {
        "colab": {
          "base_uri": "https://localhost:8080/"
        },
        "id": "a9ZFy9TP3qRZ",
        "outputId": "385cb81d-2eaf-4e9f-dc50-aeb23691162e"
      },
      "source": [
        "function1()"
      ],
      "execution_count": 2,
      "outputs": [
        {
          "output_type": "stream",
          "name": "stdout",
          "text": [
            "python1\n",
            "python2\n"
          ]
        }
      ]
    },
    {
      "cell_type": "code",
      "metadata": {
        "colab": {
          "base_uri": "https://localhost:8080/"
        },
        "id": "btgRYFXl3xkC",
        "outputId": "5cc358fd-efb2-4751-c295-6e808644214a"
      },
      "source": [
        "function1()\n",
        "function1()"
      ],
      "execution_count": 3,
      "outputs": [
        {
          "output_type": "stream",
          "name": "stdout",
          "text": [
            "python1\n",
            "python2\n",
            "python1\n",
            "python2\n"
          ]
        }
      ]
    },
    {
      "cell_type": "code",
      "metadata": {
        "id": "MghLXhMu4rfd"
      },
      "source": [
        "#mapping\n",
        "# input or argument\n",
        "# mapping 1 argument to a return value\n",
        "def function2(x):\n",
        "    return 2*x \n"
      ],
      "execution_count": 5,
      "outputs": []
    },
    {
      "cell_type": "code",
      "metadata": {
        "id": "Yj80c4z75pAk"
      },
      "source": [
        "a = function2(3) #return value or output"
      ],
      "execution_count": 7,
      "outputs": []
    },
    {
      "cell_type": "code",
      "metadata": {
        "colab": {
          "base_uri": "https://localhost:8080/"
        },
        "id": "BHGG3MUg51Jh",
        "outputId": "910efebc-36f4-4566-e7b4-05b5faa9e5db"
      },
      "source": [
        "print(a)"
      ],
      "execution_count": 8,
      "outputs": [
        {
          "output_type": "stream",
          "name": "stdout",
          "text": [
            "6\n"
          ]
        }
      ]
    },
    {
      "cell_type": "code",
      "metadata": {
        "id": "XlLZvA9K7Z28"
      },
      "source": [
        "# multiple arguments in a single function\n",
        "def function3(x, y):\n",
        "    return x + y\n"
      ],
      "execution_count": 9,
      "outputs": []
    },
    {
      "cell_type": "code",
      "metadata": {
        "id": "liq-LFGB72FQ"
      },
      "source": [
        "b = function3(5, 3)"
      ],
      "execution_count": 10,
      "outputs": []
    },
    {
      "cell_type": "code",
      "metadata": {
        "colab": {
          "base_uri": "https://localhost:8080/"
        },
        "id": "tXRDc_7C8F41",
        "outputId": "682b3595-bf60-4b32-b221-44c93df1cc27"
      },
      "source": [
        "print(b)"
      ],
      "execution_count": 11,
      "outputs": [
        {
          "output_type": "stream",
          "name": "stdout",
          "text": [
            "8\n"
          ]
        }
      ]
    },
    {
      "cell_type": "code",
      "metadata": {
        "id": "OvLXl2wr9EvU"
      },
      "source": [
        "#combining collection of codes and mapping\n",
        "def function4(x):\n",
        "    print(x) #will print x\n",
        "    print(\"still winning\") #the string will be also be printed\n",
        "    return 3*x"
      ],
      "execution_count": 12,
      "outputs": []
    },
    {
      "cell_type": "code",
      "metadata": {
        "colab": {
          "base_uri": "https://localhost:8080/"
        },
        "id": "24eMEEik-Dpc",
        "outputId": "d2675021-31df-4fc2-bab4-776e9def89a6"
      },
      "source": [
        "f = function4(4)"
      ],
      "execution_count": 13,
      "outputs": [
        {
          "output_type": "stream",
          "name": "stdout",
          "text": [
            "4\n",
            "still winning\n"
          ]
        }
      ]
    },
    {
      "cell_type": "code",
      "metadata": {
        "colab": {
          "base_uri": "https://localhost:8080/"
        },
        "id": "n4LBkEjl-6Bu",
        "outputId": "fb6b0f63-e983-405d-d97f-b6b130fe3b9e"
      },
      "source": [
        "print(f)"
      ],
      "execution_count": 14,
      "outputs": [
        {
          "output_type": "stream",
          "name": "stdout",
          "text": [
            "12\n"
          ]
        }
      ]
    },
    {
      "cell_type": "code",
      "metadata": {
        "id": "vAaGkCW3_LHK"
      },
      "source": [
        "def function5(some_arguments):\n",
        "    print(some_arguments)\n",
        "    print(\"you will be ok\")"
      ],
      "execution_count": 16,
      "outputs": []
    },
    {
      "cell_type": "code",
      "metadata": {
        "colab": {
          "base_uri": "https://localhost:8080/"
        },
        "id": "anC_2YtB__Cd",
        "outputId": "faf0b233-0384-4d7a-ad42-1ca23640f700"
      },
      "source": [
        "function5(4)"
      ],
      "execution_count": 18,
      "outputs": [
        {
          "output_type": "stream",
          "name": "stdout",
          "text": [
            "4\n",
            "you will be ok\n"
          ]
        }
      ]
    },
    {
      "cell_type": "code",
      "metadata": {
        "id": "3LqT_SYiAfrW"
      },
      "source": [
        "#bmi calculator using functions\n",
        "name = \"Dicha\"\n",
        "weight_kg = 82\n",
        "height_m = 1.7\n",
        "\n",
        "name1 = \"Cynthia\"\n",
        "weight_kg1 = 60\n",
        "height_m1 = 1.65\n",
        "\n",
        "name2 = \"Gysel\"\n",
        "weight_kg2 = 50\n",
        "height_m2 = 1.55"
      ],
      "execution_count": 21,
      "outputs": []
    },
    {
      "cell_type": "code",
      "metadata": {
        "id": "r7Lt4P3AC50m"
      },
      "source": [
        "def bmi_calculator(name, weight_kg, height_m):\n",
        "    bmi = weight_kg / (height_m ** 2)\n",
        "    print(\"bmi \")\n",
        "    print(bmi)\n",
        "    if bmi < 25:\n",
        "        return name + \" is not overweight\" #concatenate 2 strings\n",
        "    else:\n",
        "        return name + \" is overweight\""
      ],
      "execution_count": 25,
      "outputs": []
    },
    {
      "cell_type": "code",
      "metadata": {
        "colab": {
          "base_uri": "https://localhost:8080/"
        },
        "id": "Tq99tF2pFD7u",
        "outputId": "b64f9270-e369-4948-9f8a-51ab05c3ebbe"
      },
      "source": [
        "result = bmi_calculator(name, weight_kg, height_m)\n",
        "result1 = bmi_calculator(name1, weight_kg1, height_m1)\n",
        "result2 = bmi_calculator(name2, weight_kg2, height_m2)"
      ],
      "execution_count": 26,
      "outputs": [
        {
          "output_type": "stream",
          "name": "stdout",
          "text": [
            "bmi \n",
            "28.373702422145332\n",
            "bmi \n",
            "22.03856749311295\n",
            "bmi \n",
            "20.811654526534856\n"
          ]
        }
      ]
    },
    {
      "cell_type": "code",
      "metadata": {
        "colab": {
          "base_uri": "https://localhost:8080/"
        },
        "id": "vED3ToWeF7K2",
        "outputId": "6831b396-235d-4db5-a188-1ff15b736dab"
      },
      "source": [
        "print(result)\n",
        "print(result1)\n",
        "print(result2)\n"
      ],
      "execution_count": 27,
      "outputs": [
        {
          "output_type": "stream",
          "name": "stdout",
          "text": [
            "Dicha is overweight\n",
            "Cynthia is not overweight\n",
            "Gysel is not overweight\n"
          ]
        }
      ]
    },
    {
      "cell_type": "code",
      "metadata": {
        "id": "ovBeAsm-K0eA"
      },
      "source": [
        "def km_conversion(miles):\n",
        "    km = 1.6 * miles\n",
        "    print(\"km: \")\n",
        "    print(km)\n",
        "     \n"
      ],
      "execution_count": 30,
      "outputs": []
    },
    {
      "cell_type": "code",
      "metadata": {
        "colab": {
          "base_uri": "https://localhost:8080/"
        },
        "id": "RGZLYz3ENpZc",
        "outputId": "8f9a96ab-699b-42d4-dfcb-7a6b0d6dc595"
      },
      "source": [
        "km_conversion(5)"
      ],
      "execution_count": 31,
      "outputs": [
        {
          "output_type": "stream",
          "name": "stdout",
          "text": [
            "km: \n",
            "8.0\n"
          ]
        }
      ]
    },
    {
      "cell_type": "code",
      "metadata": {
        "id": "Exhp4jkFOsYh"
      },
      "source": [
        "def km_conversion2(miles):\n",
        "    return 1.6 * miles"
      ],
      "execution_count": 32,
      "outputs": []
    },
    {
      "cell_type": "code",
      "metadata": {
        "colab": {
          "base_uri": "https://localhost:8080/"
        },
        "id": "q97FRRZKPAVu",
        "outputId": "56f0b529-45ed-4b60-8296-37312b03d01d"
      },
      "source": [
        "print(km_conversion2(5))"
      ],
      "execution_count": 33,
      "outputs": [
        {
          "output_type": "stream",
          "name": "stdout",
          "text": [
            "8.0\n"
          ]
        }
      ]
    }
  ]
}